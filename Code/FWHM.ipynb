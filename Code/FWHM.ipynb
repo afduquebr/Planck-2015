{
 "cells": [
  {
   "cell_type": "markdown",
   "id": "b42a26c3",
   "metadata": {},
   "source": [
    "### FWHM Size \n",
    "\n",
    "***\n",
    "\n",
    "**Authors:** \n",
    "\n",
    "   * Andrés Felipe Duque Bran\n",
    "\n",
    "   * Melih Aktas"
   ]
  },
  {
   "cell_type": "code",
   "execution_count": 1,
   "id": "9cb39025",
   "metadata": {},
   "outputs": [],
   "source": [
    "import pandas as pd\n",
    "import numpy as np"
   ]
  },
  {
   "cell_type": "code",
   "execution_count": 2,
   "id": "81060aca",
   "metadata": {},
   "outputs": [],
   "source": [
    "# Frequencies of Planck\n",
    "f = np. array([30, 44, 70, 100, 143, 217, 353, 545, 857]) * 10 ** 9 # [Hz]\n",
    "\n",
    "# Diameter of the aperture \n",
    "d = 1.5 # [m]\n",
    "\n",
    "# Speed of light\n",
    "c = 3 * 10 ** 8 # [m/s]\n",
    "\n",
    "# Wavelengths of Planck\n",
    "l = c* 1 / f # [m]"
   ]
  },
  {
   "cell_type": "code",
   "execution_count": 3,
   "id": "01ccbc3b",
   "metadata": {},
   "outputs": [],
   "source": [
    "# FWHM Size \n",
    "theta = 1.025 * l / d # [rad]"
   ]
  },
  {
   "cell_type": "code",
   "execution_count": 19,
   "id": "80f5ef4c",
   "metadata": {},
   "outputs": [],
   "source": [
    "data = pd.DataFrame(data=[f * 10 ** -9, l * 10 ** 6, theta * 3437.75]).T\n",
    "data.columns = [\"Frequency [GHz]\", \"Wavelength [\\u03BCm]\", \"Size [arcmin]\"]"
   ]
  },
  {
   "cell_type": "code",
   "execution_count": 20,
   "id": "dbbd1496",
   "metadata": {
    "scrolled": true
   },
   "outputs": [
    {
     "data": {
      "text/html": [
       "<div>\n",
       "<style scoped>\n",
       "    .dataframe tbody tr th:only-of-type {\n",
       "        vertical-align: middle;\n",
       "    }\n",
       "\n",
       "    .dataframe tbody tr th {\n",
       "        vertical-align: top;\n",
       "    }\n",
       "\n",
       "    .dataframe thead th {\n",
       "        text-align: right;\n",
       "    }\n",
       "</style>\n",
       "<table border=\"1\" class=\"dataframe\">\n",
       "  <thead>\n",
       "    <tr style=\"text-align: right;\">\n",
       "      <th></th>\n",
       "      <th>Frequency [GHz]</th>\n",
       "      <th>Wavelength [μm]</th>\n",
       "      <th>Size [arcmin]</th>\n",
       "    </tr>\n",
       "  </thead>\n",
       "  <tbody>\n",
       "    <tr>\n",
       "      <th>0</th>\n",
       "      <td>30.0</td>\n",
       "      <td>10000.000000</td>\n",
       "      <td>23.491292</td>\n",
       "    </tr>\n",
       "    <tr>\n",
       "      <th>1</th>\n",
       "      <td>44.0</td>\n",
       "      <td>6818.181818</td>\n",
       "      <td>16.016790</td>\n",
       "    </tr>\n",
       "    <tr>\n",
       "      <th>2</th>\n",
       "      <td>70.0</td>\n",
       "      <td>4285.714286</td>\n",
       "      <td>10.067696</td>\n",
       "    </tr>\n",
       "    <tr>\n",
       "      <th>3</th>\n",
       "      <td>100.0</td>\n",
       "      <td>3000.000000</td>\n",
       "      <td>7.047387</td>\n",
       "    </tr>\n",
       "    <tr>\n",
       "      <th>4</th>\n",
       "      <td>143.0</td>\n",
       "      <td>2097.902098</td>\n",
       "      <td>4.928243</td>\n",
       "    </tr>\n",
       "    <tr>\n",
       "      <th>5</th>\n",
       "      <td>217.0</td>\n",
       "      <td>1382.488479</td>\n",
       "      <td>3.247644</td>\n",
       "    </tr>\n",
       "    <tr>\n",
       "      <th>6</th>\n",
       "      <td>353.0</td>\n",
       "      <td>849.858357</td>\n",
       "      <td>1.996427</td>\n",
       "    </tr>\n",
       "    <tr>\n",
       "      <th>7</th>\n",
       "      <td>545.0</td>\n",
       "      <td>550.458716</td>\n",
       "      <td>1.293099</td>\n",
       "    </tr>\n",
       "    <tr>\n",
       "      <th>8</th>\n",
       "      <td>857.0</td>\n",
       "      <td>350.058343</td>\n",
       "      <td>0.822332</td>\n",
       "    </tr>\n",
       "  </tbody>\n",
       "</table>\n",
       "</div>"
      ],
      "text/plain": [
       "   Frequency [GHz]  Wavelength [μm]  Size [arcmin]\n",
       "0             30.0     10000.000000      23.491292\n",
       "1             44.0      6818.181818      16.016790\n",
       "2             70.0      4285.714286      10.067696\n",
       "3            100.0      3000.000000       7.047387\n",
       "4            143.0      2097.902098       4.928243\n",
       "5            217.0      1382.488479       3.247644\n",
       "6            353.0       849.858357       1.996427\n",
       "7            545.0       550.458716       1.293099\n",
       "8            857.0       350.058343       0.822332"
      ]
     },
     "execution_count": 20,
     "metadata": {},
     "output_type": "execute_result"
    }
   ],
   "source": [
    "data"
   ]
  }
 ],
 "metadata": {
  "kernelspec": {
   "display_name": "Python 3 (ipykernel)",
   "language": "python",
   "name": "python3"
  },
  "language_info": {
   "codemirror_mode": {
    "name": "ipython",
    "version": 3
   },
   "file_extension": ".py",
   "mimetype": "text/x-python",
   "name": "python",
   "nbconvert_exporter": "python",
   "pygments_lexer": "ipython3",
   "version": "3.10.8"
  }
 },
 "nbformat": 4,
 "nbformat_minor": 5
}
