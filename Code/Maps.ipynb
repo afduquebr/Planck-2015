{
 "cells": [
  {
   "cell_type": "code",
   "execution_count": 1,
   "id": "004447ae",
   "metadata": {},
   "outputs": [],
   "source": [
    "import numpy as np\n",
    "import pandas as pd\n",
    "import matplotlib.pyplot as plt\n",
    "import healpy as hp"
   ]
  },
  {
   "cell_type": "code",
   "execution_count": 2,
   "id": "8ca168a8",
   "metadata": {},
   "outputs": [],
   "source": [
    "# Frequencies of Planck\n",
    "HF = np. array([100, 143, 217, 353, 545, 857]) # [GHz]\n",
    "\n",
    "# Reading each High Frequency Map\n",
    "for f in HF: \n",
    "    globals()[f\"HFI_{f}\"] = hp.read_map(f\"../Maps/Initial/HFI_SkyMap_{f}_2048_R2.00_full.fits\")"
   ]
  },
  {
   "cell_type": "code",
   "execution_count": 3,
   "id": "dbe52533",
   "metadata": {},
   "outputs": [
    {
     "data": {
      "text/plain": [
       "array([0.4312183 , 0.4332836 , 0.4331446 , ..., 0.55863893, 0.51170045,\n",
       "       0.49120703], dtype=float32)"
      ]
     },
     "execution_count": 3,
     "metadata": {},
     "output_type": "execute_result"
    }
   ],
   "source": [
    "HFI_545"
   ]
  },
  {
   "cell_type": "code",
   "execution_count": null,
   "id": "7d2ef811",
   "metadata": {
    "scrolled": true
   },
   "outputs": [
    {
     "name": "stdout",
     "output_type": "stream",
     "text": [
      "Converting frequency map 100\n"
     ]
    }
   ],
   "source": [
    "# Converting [rad] in [10 arcmin] for each map\n",
    "for f in HF:\n",
    "    print(f\"Converting frequency map {f}\")\n",
    "    globals()[f\"HFI_{f}\"] = hp.smoothing( globals()[f\"HFI_{f}\"], fwhm= 0.00290888)"
   ]
  },
  {
   "cell_type": "code",
   "execution_count": null,
   "id": "9b94860e",
   "metadata": {},
   "outputs": [],
   "source": [
    "# Degrade de pixel resolution from 2048 to 512\n",
    "for f in HF:\n",
    "    print(f\"Degrading frequency map {f}\")\n",
    "    globals()[f\"HFI_{f}\"] = hp.ud_grade(globals()[f\"HFI_{f}\"], 512)"
   ]
  },
  {
   "cell_type": "code",
   "execution_count": null,
   "id": "62d8016d",
   "metadata": {},
   "outputs": [],
   "source": [
    "# Change units for frequency maps 545 and 857 to K_CMB\n",
    "\n",
    "HFI_545 = HFI_545/58.04\n",
    "HFI_857 = HFI_857/2.27"
   ]
  },
  {
   "cell_type": "code",
   "execution_count": null,
   "id": "b2fa8a6f",
   "metadata": {},
   "outputs": [],
   "source": [
    "# Write each frequency map into a healpix FITS file.\n",
    "for f in HF:\n",
    "    print(f\"Writing frequency map {f}\")\n",
    "    globals()[f\"HFI_{f}\"] = hp.write_map(\n",
    "        f\"../Maps/Generated/HFI_{f}.fits\", \n",
    "        globals()[f\"HFI_{f}\"]\n",
    "    )"
   ]
  }
 ],
 "metadata": {
  "kernelspec": {
   "display_name": "Python 3 (ipykernel)",
   "language": "python",
   "name": "python3"
  },
  "language_info": {
   "codemirror_mode": {
    "name": "ipython",
    "version": 3
   },
   "file_extension": ".py",
   "mimetype": "text/x-python",
   "name": "python",
   "nbconvert_exporter": "python",
   "pygments_lexer": "ipython3",
   "version": "3.10.8"
  }
 },
 "nbformat": 4,
 "nbformat_minor": 5
}
