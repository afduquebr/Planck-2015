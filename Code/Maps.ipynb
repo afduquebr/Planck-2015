{
 "cells": [
  {
   "cell_type": "code",
   "execution_count": 90,
   "id": "004447ae",
   "metadata": {},
   "outputs": [],
   "source": [
    "import numpy as np\n",
    "import pandas as pd\n",
    "import matplotlib.pyplot as plt\n",
    "import healpy as hp\n",
    "from astropy.io import fits"
   ]
  },
  {
   "cell_type": "code",
   "execution_count": 91,
   "id": "8ca168a8",
   "metadata": {},
   "outputs": [],
   "source": [
    "# Frequencies of Planck\n",
    "HF = [100, 143, 217, 353, 545, 857] # [GHz]"
   ]
  },
  {
   "cell_type": "code",
   "execution_count": 92,
   "id": "7bf626c5",
   "metadata": {},
   "outputs": [],
   "source": [
    "# Get smoot values from PSF\n",
    "R = fits.getdata(\"../Maps/Initial/HFI_RIMO_R2.00.fits\", 2)\n",
    "FWHM = R[:][\"FWHM\"]"
   ]
  },
  {
   "cell_type": "code",
   "execution_count": 93,
   "id": "2f5ae734",
   "metadata": {},
   "outputs": [],
   "source": [
    "# Create DataFrame with frequencies and FWHM\n",
    "data = pd.DataFrame(data=[HF,FWHM]).T\n",
    "data.columns = [\"Frequency\", \"FWHM\"]"
   ]
  },
  {
   "cell_type": "code",
   "execution_count": 94,
   "id": "39dca66f",
   "metadata": {},
   "outputs": [],
   "source": [
    "# Getting the PSF map for each frequency\n",
    "data[\"PSF Map\"] = data[\"Frequency\"].map(\n",
    "    lambda x: hp.read_map(f\"../Maps/Initial/HFI_SkyMap_{int(x)}_2048_R2.00_full.fits\")\n",
    ")"
   ]
  },
  {
   "cell_type": "code",
   "execution_count": 95,
   "id": "c0e0b9bb",
   "metadata": {},
   "outputs": [],
   "source": [
    "data[\"Mod FWHM\"] = data[\"FWHM\"].map(\n",
    "    lambda x: np.sqrt(100-pow(x,2))\n",
    ")"
   ]
  },
  {
   "cell_type": "code",
   "execution_count": 96,
   "id": "7d5b7994",
   "metadata": {},
   "outputs": [
    {
     "data": {
      "text/html": [
       "<div>\n",
       "<style scoped>\n",
       "    .dataframe tbody tr th:only-of-type {\n",
       "        vertical-align: middle;\n",
       "    }\n",
       "\n",
       "    .dataframe tbody tr th {\n",
       "        vertical-align: top;\n",
       "    }\n",
       "\n",
       "    .dataframe thead th {\n",
       "        text-align: right;\n",
       "    }\n",
       "</style>\n",
       "<table border=\"1\" class=\"dataframe\">\n",
       "  <thead>\n",
       "    <tr style=\"text-align: right;\">\n",
       "      <th></th>\n",
       "      <th>Frequency</th>\n",
       "      <th>FWHM</th>\n",
       "      <th>PSF Map</th>\n",
       "      <th>Mod FWHM</th>\n",
       "    </tr>\n",
       "  </thead>\n",
       "  <tbody>\n",
       "    <tr>\n",
       "      <th>0</th>\n",
       "      <td>100.0</td>\n",
       "      <td>9.682</td>\n",
       "      <td>[-0.00012238526, -9.958545e-05, -3.9736184e-05...</td>\n",
       "      <td>2.501775</td>\n",
       "    </tr>\n",
       "    <tr>\n",
       "      <th>1</th>\n",
       "      <td>143.0</td>\n",
       "      <td>7.303</td>\n",
       "      <td>[-9.868725e-05, -7.245516e-05, -7.861525e-05, ...</td>\n",
       "      <td>6.831266</td>\n",
       "    </tr>\n",
       "    <tr>\n",
       "      <th>2</th>\n",
       "      <td>217.0</td>\n",
       "      <td>5.021</td>\n",
       "      <td>[-5.005044e-05, -2.8069558e-06, 1.2417856e-05,...</td>\n",
       "      <td>8.648096</td>\n",
       "    </tr>\n",
       "    <tr>\n",
       "      <th>3</th>\n",
       "      <td>353.0</td>\n",
       "      <td>4.944</td>\n",
       "      <td>[0.00039311356, 0.00031349497, 0.00053247873, ...</td>\n",
       "      <td>8.692345</td>\n",
       "    </tr>\n",
       "    <tr>\n",
       "      <th>4</th>\n",
       "      <td>545.0</td>\n",
       "      <td>4.831</td>\n",
       "      <td>[0.4312183, 0.4332836, 0.4331446, 0.48448372, ...</td>\n",
       "      <td>8.755652</td>\n",
       "    </tr>\n",
       "    <tr>\n",
       "      <th>5</th>\n",
       "      <td>857.0</td>\n",
       "      <td>4.638</td>\n",
       "      <td>[0.890403, 0.8909181, 0.89945364, 0.87775695, ...</td>\n",
       "      <td>8.859399</td>\n",
       "    </tr>\n",
       "  </tbody>\n",
       "</table>\n",
       "</div>"
      ],
      "text/plain": [
       "   Frequency   FWHM                                            PSF Map  \\\n",
       "0      100.0  9.682  [-0.00012238526, -9.958545e-05, -3.9736184e-05...   \n",
       "1      143.0  7.303  [-9.868725e-05, -7.245516e-05, -7.861525e-05, ...   \n",
       "2      217.0  5.021  [-5.005044e-05, -2.8069558e-06, 1.2417856e-05,...   \n",
       "3      353.0  4.944  [0.00039311356, 0.00031349497, 0.00053247873, ...   \n",
       "4      545.0  4.831  [0.4312183, 0.4332836, 0.4331446, 0.48448372, ...   \n",
       "5      857.0  4.638  [0.890403, 0.8909181, 0.89945364, 0.87775695, ...   \n",
       "\n",
       "   Mod FWHM  \n",
       "0  2.501775  \n",
       "1  6.831266  \n",
       "2  8.648096  \n",
       "3  8.692345  \n",
       "4  8.755652  \n",
       "5  8.859399  "
      ]
     },
     "execution_count": 96,
     "metadata": {},
     "output_type": "execute_result"
    }
   ],
   "source": [
    "data"
   ]
  },
  {
   "cell_type": "code",
   "execution_count": null,
   "id": "14cd5eae",
   "metadata": {
    "scrolled": true
   },
   "outputs": [],
   "source": [
    "# Smoothing [rad] in [10 arcmin] for each map\n",
    "data[\"Smooth Map\"] = data.apply(\n",
    "    lambda x: hp.smoothing( x[\"PSF Map\"], fwhm = x[\"Mod FWHM\"]),\n",
    "    axis = 1\n",
    ")"
   ]
  },
  {
   "cell_type": "code",
   "execution_count": null,
   "id": "cbbdaec7",
   "metadata": {},
   "outputs": [],
   "source": [
    "# Degrade de pixel resolution from 2048 to 512\n",
    "data[\"Degraded Map\"] = data[\"Smooth Map\"].map(\n",
    "    lambda x: hp.ud_grade( x, 512)\n",
    ")"
   ]
  },
  {
   "cell_type": "code",
   "execution_count": null,
   "id": "4473f55e",
   "metadata": {},
   "outputs": [],
   "source": [
    "# Change units for frequency maps 545 and 857 to K_CMB\n",
    "data[\"K_CMB Map\"] = data[\"Degraded Map\"]\n",
    "data[\"K_CMB Map\"][data[\"Frequency\"] == 545] = data[\"Degraded Map\"][data[\"Frequency\"] == 545]/58.04\n",
    "data[\"K_CMB Map\"][data[\"Frequency\"] == 857] = data[\"Degraded Map\"][data[\"Frequency\"] == 857]/2.27\n"
   ]
  },
  {
   "cell_type": "code",
   "execution_count": null,
   "id": "ca475a9a",
   "metadata": {},
   "outputs": [],
   "source": [
    "# Write each frequency map into a healpix FITS file.\n",
    "data[\"K_CMB Map\"].apply(\n",
    "    lambda x: hp.write_map(\n",
    "        f\"../Maps/Generated/HFI_{x[\"Frequency\"]}.fits\", x[\"K_CMB Map\"]),\n",
    "    axis = 1\n",
    ")"
   ]
  },
  {
   "cell_type": "code",
   "execution_count": null,
   "id": "3de240d6",
   "metadata": {},
   "outputs": [],
   "source": [
    "hp.mollview(data[\"Frequency\" == 545][\"K_CMB Map\"])"
   ]
  },
  {
   "cell_type": "code",
   "execution_count": null,
   "id": "79b4e652",
   "metadata": {},
   "outputs": [],
   "source": []
  }
 ],
 "metadata": {
  "kernelspec": {
   "display_name": "Python 3 (ipykernel)",
   "language": "python",
   "name": "python3"
  },
  "language_info": {
   "codemirror_mode": {
    "name": "ipython",
    "version": 3
   },
   "file_extension": ".py",
   "mimetype": "text/x-python",
   "name": "python",
   "nbconvert_exporter": "python",
   "pygments_lexer": "ipython3",
   "version": "3.10.8"
  }
 },
 "nbformat": 4,
 "nbformat_minor": 5
}
